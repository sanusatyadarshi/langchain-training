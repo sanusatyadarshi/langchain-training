{
 "cells": [
  {
   "cell_type": "markdown",
   "metadata": {},
   "source": [
    "# Task 2: Master Prompt Templates - The Foundation\n",
    "\n",
    "Prompt templates are the foundation of LangChain applications. They allow you to create reusable, parameterized prompts that make your applications consistent and maintainable.\n",
    "\n",
    "## Learning Objectives\n",
    "- Understand basic string templates with variables\n",
    "- Master chat templates for conversation flows\n",
    "- Use few-shot templates for pattern learning\n",
    "- Implement advanced templates with validation and structured output\n",
    "\n",
    "## What We'll Cover\n",
    "1. Basic Templates\n",
    "2. Chat Templates\n",
    "3. Few-Shot Templates\n",
    "4. Advanced Templates"
   ]
  },
  {
   "cell_type": "markdown",
   "metadata": {},
   "source": [
    "## 1. Basic Templates\n",
    "\n",
    "Let's start with the simplest type of template - string templates with placeholders."
   ]
  },
  {
   "cell_type": "code",
   "execution_count": null,
   "metadata": {},
   "outputs": [],
   "source": [
    "# Run the basic template example\n",
    "exec(open('/workshop/task2/basic_template.py').read())"
   ]
  },
  {
   "cell_type": "markdown",
   "metadata": {},
   "source": [
    "### 🔬 Exercise 1: Create Your Own Basic Template\n",
    "\n",
    "Create a template that generates code review comments:"
   ]
  },
  {
   "cell_type": "code",
   "execution_count": null,
   "metadata": {},
   "outputs": [],
   "source": [
    "# TODO: Create a template for code review comments\n",
    "# Variables: language, issue_type, suggestion\n",
    "# Template: \"In {language}, I noticed a {issue_type} issue. Suggestion: {suggestion}\"\n",
    "\n",
    "from langchain_core.prompts import PromptTemplate\n",
    "\n",
    "# Your code here:\n",
    "review_template = PromptTemplate(\n",
    "    input_variables=[\"language\", \"issue_type\", \"suggestion\"],\n",
    "    template=\"In {language}, I noticed a {issue_type} issue. Suggestion: {suggestion}\"\n",
    ")\n",
    "\n",
    "# Test your template\n",
    "test_review = review_template.format(\n",
    "    language=\"Python\",\n",
    "    issue_type=\"performance\",\n",
    "    suggestion=\"use list comprehension instead of loops\"\n",
    ")\n",
    "print(test_review)"
   ]
  },
  {
   "cell_type": "markdown",
   "metadata": {},
   "source": [
    "## 2. Chat Templates\n",
    "\n",
    "Chat templates handle conversation flows with different message types (system, human, assistant)."
   ]
  },
  {
   "cell_type": "code",
   "execution_count": null,
   "metadata": {},
   "outputs": [],
   "source": [
    "# Run the chat template example\n",
    "exec(open('/workshop/task2/chat_template.py').read())"
   ]
  },
  {
   "cell_type": "markdown",
   "metadata": {},
   "source": [
    "### 🔬 Exercise 2: Build a Multi-Role Chat Template\n",
    "\n",
    "Create a template for a code debugging assistant:"
   ]
  },
  {
   "cell_type": "code",
   "execution_count": null,
   "metadata": {},
   "outputs": [],
   "source": [
    "# TODO: Create a debugging assistant template\n",
    "from langchain_core.prompts import ChatPromptTemplate\n",
    "\n",
    "# Your code here:\n",
    "debug_template = ChatPromptTemplate.from_messages([\n",
    "    (\"system\", \"You are an expert {language} debugger with {experience} years of experience.\"),\n",
    "    (\"human\", \"I'm having this error: {error_message}\"),\n",
    "    (\"human\", \"Here's my code: {code}\"),\n",
    "    (\"assistant\", \"I'll help you debug this {language} issue step by step.\")\n",
    "])\n",
    "\n",
    "# Test your template\n",
    "debug_messages = debug_template.format_messages(\n",
    "    language=\"Python\",\n",
    "    experience=\"8\",\n",
    "    error_message=\"IndexError: list index out of range\",\n",
    "    code=\"for i in range(len(data)+1): print(data[i])\"\n",
    ")\n",
    "\n",
    "for msg in debug_messages:\n",
    "    print(f\"{msg.type.upper()}: {msg.content}\")"
   ]
  },
  {
   "cell_type": "markdown",
   "metadata": {},
   "source": [
    "## 3. Few-Shot Templates\n",
    "\n",
    "Few-shot templates provide examples to teach the model patterns."
   ]
  },
  {
   "cell_type": "code",
   "execution_count": null,
   "metadata": {},
   "outputs": [],
   "source": [
    "# Run the few-shot template example\n",
    "exec(open('/workshop/task2/few_shot_template.py').read())"
   ]
  },
  {
   "cell_type": "markdown",
   "metadata": {},
   "source": [
    "### 🔬 Exercise 3: Create a Code Pattern Template\n",
    "\n",
    "Build a few-shot template that teaches function naming patterns:"
   ]
  },
  {
   "cell_type": "code",
   "execution_count": null,
   "metadata": {},
   "outputs": [],
   "source": [
    "# TODO: Create a function naming pattern template\n",
    "from langchain_core.prompts import PromptTemplate, FewShotPromptTemplate\n",
    "\n",
    "# Define examples of good function naming\n",
    "naming_examples = [\n",
    "    {\"description\": \"calculates user age\", \"function_name\": \"calculate_user_age\"},\n",
    "    {\"description\": \"validates email format\", \"function_name\": \"validate_email_format\"},\n",
    "    {\"description\": \"fetches user data\", \"function_name\": \"fetch_user_data\"},\n",
    "    {\"description\": \"updates user profile\", \"function_name\": \"update_user_profile\"}\n",
    "]\n",
    "\n",
    "# Your code here:\n",
    "naming_example_template = PromptTemplate(\n",
    "    input_variables=[\"description\", \"function_name\"],\n",
    "    template=\"Description: {description}\\nFunction name: {function_name}\"\n",
    ")\n",
    "\n",
    "naming_template = FewShotPromptTemplate(\n",
    "    examples=naming_examples,\n",
    "    example_prompt=naming_example_template,\n",
    "    prefix=\"Create appropriate function names based on these patterns:\",\n",
    "    suffix=\"Description: {description}\\nFunction name:\",\n",
    "    input_variables=[\"description\"]\n",
    ")\n",
    "\n",
    "# Test your template\n",
    "test_cases = [\"processes payment transaction\", \"sends notification email\", \"logs error message\"]\n",
    "for description in test_cases:\n",
    "    result = naming_template.format(description=description)\n",
    "    print(f\"Template for '{description}':\")\n",
    "    print(result)\n",
    "    print()"
   ]
  },
  {
   "cell_type": "markdown",
   "metadata": {},
   "source": [
    "## 4. Advanced Templates\n",
    "\n",
    "Advanced templates include validation, partial variables, structured output, and conditional logic."
   ]
  },
  {
   "cell_type": "code",
   "execution_count": null,
   "metadata": {},
   "outputs": [],
   "source": [
    "# Run the advanced templates example\n",
    "exec(open('/workshop/task2/advanced_templates.py').read())"
   ]
  },
  {
   "cell_type": "markdown",
   "metadata": {},
   "source": [
    "### 🔬 Exercise 4: Build a Structured Output Template\n",
    "\n",
    "Create a template that generates structured API documentation:"
   ]
  },
  {
   "cell_type": "code",
   "execution_count": null,
   "metadata": {},
   "outputs": [],
   "source": "# TODO: Create a structured API documentation template\nfrom langchain_core.prompts import PromptTemplate\nfrom langchain_core.output_parsers import PydanticOutputParser\nfrom pydantic import BaseModel, Field\n\n# Define the structure for API documentation\nclass APIDocumentation(BaseModel):\n    endpoint: str = Field(description=\"API endpoint path\")\n    method: str = Field(description=\"HTTP method (GET, POST, etc.)\")\n    description: str = Field(description=\"What this endpoint does\")\n    parameters: list[str] = Field(description=\"List of required parameters\")\n    response_format: str = Field(description=\"Expected response format\")\n\n# Your code here:\nparser = PydanticOutputParser(pydantic_object=APIDocumentation)\n\napi_doc_template = PromptTemplate(\n    template=\"Create API documentation for: {api_description}\\n{format_instructions}\",\n    input_variables=[\"api_description\"],\n    partial_variables={\"format_instructions\": parser.get_format_instructions()}\n)\n\n# Test your template\ntest_api = \"user authentication endpoint\"\nformatted_prompt = api_doc_template.format(api_description=test_api)\nprint(\"Generated prompt:\")\nprint(formatted_prompt)"
  },
  {
   "cell_type": "markdown",
   "metadata": {},
   "source": [
    "## 🎯 Challenge: Combine Multiple Template Types\n",
    "\n",
    "Create a system that uses all template types for a code review assistant:"
   ]
  },
  {
   "cell_type": "code",
   "execution_count": null,
   "metadata": {},
   "outputs": [],
   "source": [
    "# TODO: Build a comprehensive code review system\n",
    "from langchain_core.prompts import PromptTemplate, ChatPromptTemplate, FewShotPromptTemplate\n",
    "\n",
    "# 1. Basic template for review categories\n",
    "category_template = PromptTemplate(\n",
    "    input_variables=[\"code_type\"],\n",
    "    template=\"Reviewing {code_type} code for best practices\"\n",
    ")\n",
    "\n",
    "# 2. Few-shot template for issue patterns\n",
    "issue_examples = [\n",
    "    {\"issue\": \"long function\", \"suggestion\": \"break into smaller functions\"},\n",
    "    {\"issue\": \"no error handling\", \"suggestion\": \"add try-catch blocks\"},\n",
    "    {\"issue\": \"hardcoded values\", \"suggestion\": \"use configuration files\"}\n",
    "]\n",
    "\n",
    "issue_template = PromptTemplate(\n",
    "    input_variables=[\"issue\", \"suggestion\"],\n",
    "    template=\"Issue: {issue} → Suggestion: {suggestion}\"\n",
    ")\n",
    "\n",
    "review_patterns = FewShotPromptTemplate(\n",
    "    examples=issue_examples,\n",
    "    example_prompt=issue_template,\n",
    "    prefix=\"Common code review patterns:\",\n",
    "    suffix=\"Issue: {new_issue} → Suggestion:\",\n",
    "    input_variables=[\"new_issue\"]\n",
    ")\n",
    "\n",
    "# 3. Chat template for the review conversation\n",
    "review_chat = ChatPromptTemplate.from_messages([\n",
    "    (\"system\", \"You are a senior software engineer conducting a code review.\"),\n",
    "    (\"human\", \"Please review this {language} code: {code}\"),\n",
    "    (\"assistant\", \"I'll review your code focusing on: {focus_areas}\")\n",
    "])\n",
    "\n",
    "# Test the combined system\n",
    "print(\"=== Code Review System Demo ===\")\n",
    "print(\"1. Category:\", category_template.format(code_type=\"Python\"))\n",
    "print(\"\\n2. Pattern Learning:\")\n",
    "print(review_patterns.format(new_issue=\"unclear variable names\"))\n",
    "print(\"\\n3. Review Conversation:\")\n",
    "messages = review_chat.format_messages(\n",
    "    language=\"Python\",\n",
    "    code=\"def calc(x, y): return x + y\",\n",
    "    focus_areas=\"naming, documentation, error handling\"\n",
    ")\n",
    "for msg in messages:\n",
    "    print(f\"{msg.type}: {msg.content}\")"
   ]
  },
  {
   "cell_type": "markdown",
   "metadata": {},
   "source": [
    "## ✅ Task 2 Complete!\n",
    "\n",
    "### What You've Learned\n",
    "- ✅ Basic string templates with variables\n",
    "- ✅ Chat templates for conversation flows\n",
    "- ✅ Few-shot templates for pattern learning\n",
    "- ✅ Advanced templates with validation and structure\n",
    "\n",
    "### Key Checkpoint Files Created\n",
    "Check that these files exist in `/root/`:\n",
    "- `basic-templates.txt`\n",
    "- `chat-templates.txt`\n",
    "- `few-shot-templates.txt`\n",
    "- `advanced-templates.txt`\n",
    "\n",
    "### Next Steps\n",
    "Ready for **Task 3: Connect to Multiple LLMs**! You'll learn how to:\n",
    "- Connect to different language models\n",
    "- Configure model parameters\n",
    "- Handle different model providers\n",
    "- Use models in your templates\n",
    "\n",
    "Continue to `Task3_Multiple_LLMs.ipynb`!"
   ]
  }
 ],
 "metadata": {
  "kernelspec": {
   "display_name": "Python 3",
   "language": "python",
   "name": "python3"
  },
  "language_info": {
   "codemirror_mode": {
    "name": "ipython",
    "version": 3
   },
   "file_extension": ".py",
   "name": "python",
   "nbconvert_exporter": "python",
   "pygments_lexer": "ipython3",
   "version": "3.11.0"
  }
 },
 "nbformat": 4,
 "nbformat_minor": 4
}