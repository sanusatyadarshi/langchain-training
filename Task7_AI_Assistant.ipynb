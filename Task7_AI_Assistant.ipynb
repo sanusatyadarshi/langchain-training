{
 "cells": [
  {
   "cell_type": "markdown",
   "metadata": {},
   "source": [
    "# Task 7: Launch Your LangChain AI Assistant\n",
    "\n",
    "Deploy a complete AI assistant with Gradio interface combining all concepts learned."
   ]
  },
  {
   "cell_type": "markdown",
   "metadata": {},
   "source": [
    "## Start the Chatbot Application\n",
    "\n",
    "Run the complete AI assistant:"
   ]
  },
  {
   "cell_type": "code",
   "execution_count": null,
   "metadata": {},
   "outputs": [],
   "source": [
    "# This will start the Gradio app on port 7860\n",
    "# Note: In Jupyter, this will run in the background\n",
    "# You can access it at http://localhost:7860\n",
    "\n",
    "exec(open('/workshop/task7/app.py').read())"
   ]
  },
  {
   "cell_type": "markdown",
   "metadata": {},
   "source": [
    "## Alternative: Run from Terminal\n",
    "\n",
    "You can also run the app from the terminal:\n",
    "\n",
    "```bash\n",
    "cd /workshop/task7\n",
    "python app.py\n",
    "```\n",
    "\n",
    "The app will be available at http://localhost:7860"
   ]
  },
  {
   "cell_type": "markdown",
   "metadata": {},
   "source": [
    "## Try These Sample Prompts\n",
    "\n",
    "- \"What is LCEL and how does it work?\"\n",
    "- \"Explain Retrieval-Augmented Generation\"\n",
    "- \"How do I create prompt templates?\"\n",
    "- \"What are the different types of memory in LangChain?\"\n",
    "- \"How do vector stores work?\"\n",
    "\n",
    "## Features of Your AI Assistant\n",
    "\n",
    "✅ **RAG System**: Retrieves relevant information from knowledge base  \n",
    "✅ **Memory**: Maintains conversation context  \n",
    "✅ **Web UI**: Clean Gradio interface  \n",
    "✅ **Dual Mode**: Toggle between RAG and conversational mode  \n",
    "✅ **Source Citations**: Shows which documents were used  \n",
    "\n",
    "## ✅ Task 7 Complete!\n",
    "\n",
    "🎉 **Congratulations!** You've built a complete LangChain AI assistant from scratch!"
   ]
  }
 ],
 "metadata": {
  "kernelspec": {
   "display_name": "Python 3",
   "language": "python",
   "name": "python3"
  },
  "language_info": {
   "codemirror_mode": {
    "name": "ipython",
    "version": 3
   },
   "file_extension": ".py",
   "name": "python",
   "nbconvert_exporter": "python",
   "pygments_lexer": "ipython3",
   "version": "3.11.0"
  }
 },
 "nbformat": 4,
 "nbformat_minor": 4
}